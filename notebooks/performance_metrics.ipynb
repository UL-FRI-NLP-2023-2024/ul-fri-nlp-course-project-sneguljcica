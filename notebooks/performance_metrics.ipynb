{
 "cells": [
  {
   "cell_type": "code",
   "execution_count": 38,
   "metadata": {},
   "outputs": [],
   "source": [
    "from sentence_transformers import SentenceTransformer, InputExample, losses, models\n",
    "from sentence_transformers.datasets import DenoisingAutoEncoderDataset\n",
    "from torch.utils.data import DataLoader\n",
    "import random\n",
    "import pandas as pd\n",
    "import torch\n",
    "import numpy as np\n",
    "import gc\n",
    "from sklearn.model_selection import train_test_split\n",
    "from sklearn.linear_model import LogisticRegression\n",
    "from sklearn.metrics import f1_score, log_loss"
   ]
  },
  {
   "cell_type": "code",
   "execution_count": 43,
   "metadata": {},
   "outputs": [
    {
     "name": "stdout",
     "output_type": "stream",
     "text": [
      "(38232, 2)\n"
     ]
    }
   ],
   "source": [
    "testPath = \"/home/aljaz/FAKS/ul-fri-nlp-course-project-sneguljcica/data/raw/Annotation_sentence-level_utf8.txt\"\n",
    "df = pd.read_csv(testPath, sep=\"\\t\")\n",
    "df = df.iloc[:, [3, 12]]\n",
    "\n",
    "df = df.iloc[:38000, :]\n",
    "\n",
    "X_train, X_test, y_train, y_test = train_test_split(df.iloc[:, 0], df.iloc[:, 1], train_size=0.8, random_state=42)"
   ]
  },
  {
   "cell_type": "code",
   "execution_count": 42,
   "metadata": {},
   "outputs": [
    {
     "name": "stdout",
     "output_type": "stream",
     "text": [
      "Model:  bert-base-multilingual-uncased\n",
      "F1 score:  0.6287185507813976\n",
      "Log loss:  0.7355229477683874\n",
      "Model:  tsdae-bert-base-multilingual-uncased\n"
     ]
    },
    {
     "ename": "KeyboardInterrupt",
     "evalue": "",
     "output_type": "error",
     "traceback": [
      "\u001b[0;31m---------------------------------------------------------------------------\u001b[0m",
      "\u001b[0;31mKeyboardInterrupt\u001b[0m                         Traceback (most recent call last)",
      "Cell \u001b[0;32mIn[42], line 39\u001b[0m\n\u001b[1;32m     36\u001b[0m model \u001b[38;5;241m=\u001b[39m SentenceTransformer(modules\u001b[38;5;241m=\u001b[39m[bert, pooling])\n\u001b[1;32m     38\u001b[0m \u001b[38;5;28mprint\u001b[39m(\u001b[38;5;124m\"\u001b[39m\u001b[38;5;124mModel: \u001b[39m\u001b[38;5;124m\"\u001b[39m, \u001b[38;5;124m\"\u001b[39m\u001b[38;5;124mtsdae-\u001b[39m\u001b[38;5;124m\"\u001b[39m \u001b[38;5;241m+\u001b[39m model_name)\n\u001b[0;32m---> 39\u001b[0m embedded_train \u001b[38;5;241m=\u001b[39m \u001b[43mmodel\u001b[49m\u001b[38;5;241;43m.\u001b[39;49m\u001b[43mencode\u001b[49m\u001b[43m(\u001b[49m\u001b[43mX_train\u001b[49m\u001b[38;5;241;43m.\u001b[39;49m\u001b[43mto_numpy\u001b[49m\u001b[43m(\u001b[49m\u001b[43m)\u001b[49m\u001b[43m)\u001b[49m\n\u001b[1;32m     40\u001b[0m embedded_test \u001b[38;5;241m=\u001b[39m model\u001b[38;5;241m.\u001b[39mencode(X_test\u001b[38;5;241m.\u001b[39mto_numpy())\n\u001b[1;32m     42\u001b[0m lr \u001b[38;5;241m=\u001b[39m LogisticRegression(max_iter\u001b[38;5;241m=\u001b[39m\u001b[38;5;241m1000\u001b[39m)\n",
      "File \u001b[0;32m~/miniforge3/envs/nlp/lib/python3.12/site-packages/sentence_transformers/SentenceTransformer.py:397\u001b[0m, in \u001b[0;36mSentenceTransformer.encode\u001b[0;34m(self, sentences, prompt_name, prompt, batch_size, show_progress_bar, output_value, precision, convert_to_numpy, convert_to_tensor, device, normalize_embeddings)\u001b[0m\n\u001b[1;32m    395\u001b[0m             \u001b[38;5;66;03m# fixes for #522 and #487 to avoid oom problems on gpu with large datasets\u001b[39;00m\n\u001b[1;32m    396\u001b[0m             \u001b[38;5;28;01mif\u001b[39;00m convert_to_numpy:\n\u001b[0;32m--> 397\u001b[0m                 embeddings \u001b[38;5;241m=\u001b[39m \u001b[43membeddings\u001b[49m\u001b[38;5;241;43m.\u001b[39;49m\u001b[43mcpu\u001b[49m\u001b[43m(\u001b[49m\u001b[43m)\u001b[49m\n\u001b[1;32m    399\u001b[0m         all_embeddings\u001b[38;5;241m.\u001b[39mextend(embeddings)\n\u001b[1;32m    401\u001b[0m all_embeddings \u001b[38;5;241m=\u001b[39m [all_embeddings[idx] \u001b[38;5;28;01mfor\u001b[39;00m idx \u001b[38;5;129;01min\u001b[39;00m np\u001b[38;5;241m.\u001b[39margsort(length_sorted_idx)]\n",
      "\u001b[0;31mKeyboardInterrupt\u001b[0m: "
     ]
    }
   ],
   "source": [
    "\n",
    "modelss= [\"bert-base-multilingual-uncased\", \"hate_speech_slo\", \"all-MiniLM-L12-v2\" ]\n",
    "\n",
    "base_model_path = \"/home/aljaz/FAKS/ul-fri-nlp-course-project-sneguljcica/models/\"\n",
    "\n",
    "d = {}\n",
    "\n",
    "for model_name in modelss:\n",
    "    #base model testing\n",
    "\n",
    "    bbert = models.Transformer(base_model_path + model_name)\n",
    "    bpooling = models.Pooling(bbert.get_word_embedding_dimension(), 'cls')\n",
    "    model = SentenceTransformer(modules=[bbert, bpooling])\n",
    "\n",
    "    print(\"Model: \", model_name)\n",
    "    embedded_train = model.encode(X_train.to_numpy())\n",
    "    embedded_test = model.encode(X_test.to_numpy())\n",
    "\n",
    "    lr = LogisticRegression(max_iter=1000)\n",
    "    lr.fit(embedded_train, y_train.to_numpy())\n",
    "\n",
    "    y_pred = lr.predict(embedded_test)\n",
    "    y_pred_probabs = lr.predict_proba(embedded_test)\n",
    "\n",
    "    f1 = f1_score(y_test, y_pred, average='weighted')\n",
    "    logloss = log_loss(y_test, y_pred_probabs)\n",
    "    print(\"F1 score: \", f1)\n",
    "    print(\"Log loss: \", logloss)\n",
    "    d[model_name] = {\"F1\" :f1,\"Log-Loss\": logloss}\n",
    "\n",
    "    torch.cuda.empty_cache() \n",
    "\n",
    "    # tsdae model\n",
    "\n",
    "    bert = models.Transformer(base_model_path + \"models10/tsdae-\" + model_name)\n",
    "    pooling = models.Pooling(bert.get_word_embedding_dimension(), 'cls')\n",
    "    model = SentenceTransformer(modules=[bert, pooling])\n",
    "\n",
    "    print(\"Model: \", \"tsdae-\" + model_name)\n",
    "    embedded_train = model.encode(X_train.to_numpy())\n",
    "    embedded_test = model.encode(X_test.to_numpy())\n",
    "\n",
    "    lr = LogisticRegression(max_iter=1000)\n",
    "    lr.fit(embedded_train, y_train.to_numpy())\n",
    "\n",
    "    y_pred = lr.predict(embedded_test)\n",
    "    y_pred_probabs = lr.predict_proba(embedded_test)\n",
    "\n",
    "    f1 = f1_score(y_test, y_pred, average='weighted')\n",
    "    logloss = log_loss(y_test, y_pred_probabs)\n",
    "    print(\"F1 score: \", f1)\n",
    "    print(\"Log loss: \", logloss)\n",
    "    d[\"tsdae-\" + model_name] = {\"F1\" :f1,\"Log-Loss\": logloss}\n",
    "\n",
    "    torch.cuda.empty_cache()\n",
    "\n",
    "\n",
    "scores = pd.DataFrame(d).T\n",
    "print(scores)\n",
    "scores.to_csv(\"scores.csv\")\n"
   ]
  }
 ],
 "metadata": {
  "kernelspec": {
   "display_name": "nlp",
   "language": "python",
   "name": "python3"
  },
  "language_info": {
   "codemirror_mode": {
    "name": "ipython",
    "version": 3
   },
   "file_extension": ".py",
   "mimetype": "text/x-python",
   "name": "python",
   "nbconvert_exporter": "python",
   "pygments_lexer": "ipython3",
   "version": "3.12.3"
  }
 },
 "nbformat": 4,
 "nbformat_minor": 2
}
